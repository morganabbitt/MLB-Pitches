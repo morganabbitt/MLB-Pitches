{
 "cells": [
  {
   "cell_type": "code",
   "execution_count": 3,
   "metadata": {},
   "outputs": [
    {
     "name": "stderr",
     "output_type": "stream",
     "text": [
      "/Users/morganabbitt/anaconda3/lib/python3.7/importlib/_bootstrap.py:219: RuntimeWarning: numpy.ufunc size changed, may indicate binary incompatibility. Expected 192 from C header, got 216 from PyObject\n",
      "  return f(*args, **kwds)\n",
      "/Users/morganabbitt/anaconda3/lib/python3.7/importlib/_bootstrap.py:219: RuntimeWarning: numpy.ufunc size changed, may indicate binary incompatibility. Expected 192 from C header, got 216 from PyObject\n",
      "  return f(*args, **kwds)\n"
     ]
    }
   ],
   "source": [
    "import pandas as pd\n",
    "import numpy as np\n",
    "import matplotlib.pyplot as plt\n",
    "%matplotlib inline"
   ]
  },
  {
   "cell_type": "code",
   "execution_count": 15,
   "metadata": {},
   "outputs": [],
   "source": [
    "def cleaning_final_df():\n",
    "    #see all available columns\n",
    "    pd.set_option('display.max_columns', None)\n",
    "    #reads in each csv separately\n",
    "    pitches = pd.read_csv('../data/pitches.csv', low_memory=False)\n",
    "    atbats = pd.read_csv('../data/atbats.csv', low_memory=False)\n",
    "    games = pd.read_csv('../data/games.csv', low_memory=False)\n",
    "    names = pd.read_csv('../data/player_names.csv', low_memory=False)\n",
    "\n",
    "    #merge pitches with atbats\n",
    "    game_sit = pd.merge(atbats, pitches[['px', 'pz', 'start_speed', 'end_speed', 'spin_rate', 'spin_dir', 'break_angle', 'break_length', 'code', 'type', 'pitch_type', 'b_score', 'b_count', 's_count', 'outs', 'pitch_num', 'on_1b', 'on_2b', 'on_3b', 'ab_id']], on='ab_id')\n",
    "\n",
    "    #creates full name column inside names df\n",
    "    names['full_name'] = names['first_name'] + ' ' + names['last_name']\n",
    "    #merges names with game situation df \n",
    "    merged_names = pd.merge(names[['full_name', 'id']], game_sit, left_on='id', right_on='batter_id')\n",
    "    #merges the above merged names with the pitcher id now\n",
    "    final_play_df = pd.merge(merged_names, names[['full_name', 'id']], left_on='pitcher_id', right_on='id')\n",
    "    #renames some of the merged column names, and drops other id_x and id+y columns\n",
    "    final_play_df = final_play_df.rename(columns={'full_name_x':'batter_name', 'g_id':'game_id', 'o' :'post_outs', 'stand':'batter_stand', 'full_name_y':'pitcher_name'}).drop(columns=['id_x', 'id_y'])\n",
    "    \n",
    "    #grabs certain columns to use for modeling\n",
    "    final_play_df = final_play_df[['pitcher_name', 'batter_name', 'ab_id', 'batter_id', 'pitcher_id', 'game_id', 'inning', 'p_score', 'p_throws', 'batter_stand', 'top', 'b_score', 'b_count', 's_count', 'outs', 'pitch_num', 'on_1b', 'on_2b', 'on_3b', 'pitch_type']]\n",
    "    final_play_df.replace({'R': 1, 'L': 0}, inplace=True)\n",
    "    \n",
    "    #finds all nans and uses np.where to grab axis [0] grabs first of tuple\n",
    "    rows_with_nans = np.where(pitches.isna().any(axis=1) == True)[0]\n",
    "    \n",
    "    #uses the rows_with_nans from earlier to drop unwanted rows. only rows with nans are pitch type\n",
    "    final_play_df.drop(index=rows_with_nans, axis=0, inplace=True)\n",
    "    \n",
    "    #uses get dummies on pitcher names to create new features\n",
    "    pitch_names = pd.get_dummies(final_play_df['pitcher_name'])\n",
    "    \n",
    "    #merges class_modeling with the new pitch names, drops the redundant columns \n",
    "    #drops one of the pitchers from the df, Sorry 'Bronson Arroyo' you gotta go\n",
    "    df = final_play_df.merge(pitch_names, left_index=True, right_index=True).drop(columns=['ab_id', 'pitcher_name', 'batter_name', 'batter_id', 'pitcher_id', 'game_id', 'Bronson Arroyo'])\n",
    "    return df"
   ]
  },
  {
   "cell_type": "code",
   "execution_count": null,
   "metadata": {},
   "outputs": [],
   "source": []
  }
 ],
 "metadata": {
  "kernelspec": {
   "display_name": "Python 3",
   "language": "python",
   "name": "python3"
  },
  "language_info": {
   "codemirror_mode": {
    "name": "ipython",
    "version": 3
   },
   "file_extension": ".py",
   "mimetype": "text/x-python",
   "name": "python",
   "nbconvert_exporter": "python",
   "pygments_lexer": "ipython3",
   "version": "3.7.6"
  }
 },
 "nbformat": 4,
 "nbformat_minor": 2
}
